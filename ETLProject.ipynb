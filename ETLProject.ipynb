{
 "cells": [
  {
   "cell_type": "code",
   "execution_count": 1,
   "metadata": {},
   "outputs": [],
   "source": [
    "#Import dependencies\n",
    "import pandas as pd\n",
    "from sqlalchemy import create_engine"
   ]
  },
  {
   "cell_type": "code",
   "execution_count": 2,
   "metadata": {},
   "outputs": [],
   "source": [
    "#Establish connection with Postgres Database\n",
    "rds_connection_string = \"postgres:postgres@localhost:5432/ETLProject\"\n",
    "engine = create_engine(f'postgresql://{rds_connection_string}')"
   ]
  },
  {
   "cell_type": "code",
   "execution_count": 3,
   "metadata": {},
   "outputs": [],
   "source": [
    "#Create dataframes with raw data from csv files \n",
    "stations_df = pd.read_csv(\"Resources/stations.csv\")\n",
    "lines_df = pd.read_csv(\"Resources/lines.csv\")\n",
    "stationlines_df = pd.read_csv(\"Resources/station_lines.csv\")\n",
    "tracks_df = pd.read_csv(\"Resources/tracks.csv\")\n",
    "tracklines_df = pd.read_csv(\"Resources/track_lines.csv\")\n",
    "cities_df = pd.read_csv(\"Resources/cities.csv\")\n",
    "systems_df = pd.read_csv(\"Resources/systems.csv\")"
   ]
  },
  {
   "cell_type": "code",
   "execution_count": 4,
   "metadata": {},
   "outputs": [
    {
     "data": {
      "text/plain": [
       "[15794, 1343, 16242, 9271, 9757, 334, 488]"
      ]
     },
     "execution_count": 4,
     "metadata": {},
     "output_type": "execute_result"
    }
   ],
   "source": [
    "#Verify the counts before duplicate removal\n",
    "count_df = [stations_df['id'].count(), \\\n",
    "            lines_df['id'].count(), \\\n",
    "            stationlines_df['id'].count(), \\\n",
    "            tracks_df['id'].count(), \\\n",
    "            tracklines_df['id'].count(), \\\n",
    "            cities_df['id'].count(), \\\n",
    "            systems_df['id'].count()\n",
    "           ]\n",
    "count_df"
   ]
  },
  {
   "cell_type": "code",
   "execution_count": 5,
   "metadata": {},
   "outputs": [],
   "source": [
    "#Remove Duplicates\n",
    "stations_df = stations_df.drop_duplicates (subset=['name', 'geometry', 'buildstart', 'opening', 'closure', 'city_id'], keep='first', inplace=False)\n",
    "lines_df = lines_df.drop_duplicates (subset=['name', 'system_id', 'city_id'], keep='first', inplace=False)\n",
    "stationlines_df = stationlines_df.drop_duplicates (subset=['station_id', 'line_id', 'city_id'], keep='first', inplace=False)\n",
    "tracks_df = tracks_df.drop_duplicates (subset=['closure', 'length', 'city_id'], keep='first', inplace=False)\n",
    "tracklines_df = tracklines_df.drop_duplicates (subset=['section_id', 'line_id', 'city_id'], keep='first', inplace=False)\n",
    "cities_df = cities_df.drop_duplicates (subset=['name', 'coords', 'country'], keep='first', inplace=False)\n",
    "systems_df = systems_df.drop_duplicates (subset=['city_id'], keep='first', inplace=False)"
   ]
  },
  {
   "cell_type": "code",
   "execution_count": 6,
   "metadata": {},
   "outputs": [
    {
     "data": {
      "text/plain": [
       "[15792, 1343, 16242, 7744, 9757, 334, 287]"
      ]
     },
     "execution_count": 6,
     "metadata": {},
     "output_type": "execute_result"
    }
   ],
   "source": [
    "#Verify the counts after duplicate removal\n",
    "count_df = [stations_df['id'].count(), \\\n",
    "            lines_df['id'].count(), \\\n",
    "            stationlines_df['id'].count(), \\\n",
    "            tracks_df['id'].count(), \\\n",
    "            tracklines_df['id'].count(), \\\n",
    "            cities_df['id'].count(), \\\n",
    "            systems_df['id'].count()\n",
    "           ]\n",
    "count_df"
   ]
  },
  {
   "cell_type": "code",
   "execution_count": 7,
   "metadata": {},
   "outputs": [
    {
     "data": {
      "text/html": [
       "<div>\n",
       "<style scoped>\n",
       "    .dataframe tbody tr th:only-of-type {\n",
       "        vertical-align: middle;\n",
       "    }\n",
       "\n",
       "    .dataframe tbody tr th {\n",
       "        vertical-align: top;\n",
       "    }\n",
       "\n",
       "    .dataframe thead th {\n",
       "        text-align: right;\n",
       "    }\n",
       "</style>\n",
       "<table border=\"1\" class=\"dataframe\">\n",
       "  <thead>\n",
       "    <tr style=\"text-align: right;\">\n",
       "      <th></th>\n",
       "      <th>id</th>\n",
       "      <th>name</th>\n",
       "      <th>geometry</th>\n",
       "      <th>buildstart</th>\n",
       "      <th>opening</th>\n",
       "      <th>closure</th>\n",
       "      <th>city_id</th>\n",
       "      <th>Latitude</th>\n",
       "      <th>Longitude</th>\n",
       "    </tr>\n",
       "  </thead>\n",
       "  <tbody>\n",
       "    <tr>\n",
       "      <th>0</th>\n",
       "      <td>7694</td>\n",
       "      <td>Keisei Tsudanuma</td>\n",
       "      <td>POINT(140.024812197129 35.6837744784723)</td>\n",
       "      <td>1921.0</td>\n",
       "      <td>1921.0</td>\n",
       "      <td>999999.0</td>\n",
       "      <td>114</td>\n",
       "      <td>140.024812197129</td>\n",
       "      <td>35.6837744784723</td>\n",
       "    </tr>\n",
       "    <tr>\n",
       "      <th>1</th>\n",
       "      <td>6003</td>\n",
       "      <td>Kossuth Lajos tér</td>\n",
       "      <td>POINT(19.0462376564033 47.5054880717671)</td>\n",
       "      <td>0.0</td>\n",
       "      <td>0.0</td>\n",
       "      <td>999999.0</td>\n",
       "      <td>29</td>\n",
       "      <td>19.0462376564033</td>\n",
       "      <td>47.5054880717671</td>\n",
       "    </tr>\n",
       "    <tr>\n",
       "      <th>2</th>\n",
       "      <td>7732</td>\n",
       "      <td>Saint-Charles</td>\n",
       "      <td>POINT(5.3801556 43.3024646)</td>\n",
       "      <td>1973.0</td>\n",
       "      <td>1977.0</td>\n",
       "      <td>999999.0</td>\n",
       "      <td>74</td>\n",
       "      <td>5.3801556</td>\n",
       "      <td>43.3024646</td>\n",
       "    </tr>\n",
       "    <tr>\n",
       "      <th>3</th>\n",
       "      <td>7695</td>\n",
       "      <td>Keisei Makuhari-Hongo</td>\n",
       "      <td>POINT(140.042146725175 35.6726021159981)</td>\n",
       "      <td>1991.0</td>\n",
       "      <td>1991.0</td>\n",
       "      <td>999999.0</td>\n",
       "      <td>114</td>\n",
       "      <td>140.042146725175</td>\n",
       "      <td>35.6726021159981</td>\n",
       "    </tr>\n",
       "    <tr>\n",
       "      <th>4</th>\n",
       "      <td>7726</td>\n",
       "      <td>Chartreux</td>\n",
       "      <td>POINT(5.4014815 43.309129)</td>\n",
       "      <td>1973.0</td>\n",
       "      <td>1977.0</td>\n",
       "      <td>999999.0</td>\n",
       "      <td>74</td>\n",
       "      <td>5.4014815</td>\n",
       "      <td>43.309129</td>\n",
       "    </tr>\n",
       "  </tbody>\n",
       "</table>\n",
       "</div>"
      ],
      "text/plain": [
       "     id                   name                                  geometry  \\\n",
       "0  7694       Keisei Tsudanuma  POINT(140.024812197129 35.6837744784723)   \n",
       "1  6003      Kossuth Lajos tér  POINT(19.0462376564033 47.5054880717671)   \n",
       "2  7732          Saint-Charles               POINT(5.3801556 43.3024646)   \n",
       "3  7695  Keisei Makuhari-Hongo  POINT(140.042146725175 35.6726021159981)   \n",
       "4  7726              Chartreux                POINT(5.4014815 43.309129)   \n",
       "\n",
       "   buildstart  opening   closure  city_id          Latitude         Longitude  \n",
       "0      1921.0   1921.0  999999.0      114  140.024812197129  35.6837744784723  \n",
       "1         0.0      0.0  999999.0       29  19.0462376564033  47.5054880717671  \n",
       "2      1973.0   1977.0  999999.0       74         5.3801556        43.3024646  \n",
       "3      1991.0   1991.0  999999.0      114  140.042146725175  35.6726021159981  \n",
       "4      1973.0   1977.0  999999.0       74         5.4014815         43.309129  "
      ]
     },
     "execution_count": 7,
     "metadata": {},
     "output_type": "execute_result"
    }
   ],
   "source": [
    "#Split geometry column to understand Latitude and Longitude\n",
    "stations_df[['Latitude','Longitude']] = stations_df.geometry.str.split(\" \",expand=True,)\n",
    "stations_df['Latitude'] = stations_df['Latitude'].map(lambda x: x.lstrip('POINT('))\n",
    "stations_df['Longitude'] = stations_df['Longitude'].map(lambda x: x.rstrip(')'))\n",
    "stations_df.head()"
   ]
  },
  {
   "cell_type": "code",
   "execution_count": 8,
   "metadata": {},
   "outputs": [
    {
     "data": {
      "text/html": [
       "<div>\n",
       "<style scoped>\n",
       "    .dataframe tbody tr th:only-of-type {\n",
       "        vertical-align: middle;\n",
       "    }\n",
       "\n",
       "    .dataframe tbody tr th {\n",
       "        vertical-align: top;\n",
       "    }\n",
       "\n",
       "    .dataframe thead th {\n",
       "        text-align: right;\n",
       "    }\n",
       "</style>\n",
       "<table border=\"1\" class=\"dataframe\">\n",
       "  <thead>\n",
       "    <tr style=\"text-align: right;\">\n",
       "      <th></th>\n",
       "      <th>id</th>\n",
       "      <th>name</th>\n",
       "      <th>coords</th>\n",
       "      <th>start_year</th>\n",
       "      <th>url_name</th>\n",
       "      <th>country</th>\n",
       "      <th>country_state</th>\n",
       "      <th>Latitude</th>\n",
       "      <th>Longitude</th>\n",
       "    </tr>\n",
       "  </thead>\n",
       "  <tbody>\n",
       "    <tr>\n",
       "      <th>0</th>\n",
       "      <td>5</td>\n",
       "      <td>Aberdeen</td>\n",
       "      <td>POINT(-2.15 57.15)</td>\n",
       "      <td>2017.0</td>\n",
       "      <td>aberdeen</td>\n",
       "      <td>Scotland</td>\n",
       "      <td>NaN</td>\n",
       "      <td>-2.15</td>\n",
       "      <td>57.15</td>\n",
       "    </tr>\n",
       "    <tr>\n",
       "      <th>1</th>\n",
       "      <td>6</td>\n",
       "      <td>Adelaide</td>\n",
       "      <td>POINT(138.6 -34.91666667)</td>\n",
       "      <td>2017.0</td>\n",
       "      <td>adelaide</td>\n",
       "      <td>Australia</td>\n",
       "      <td>NaN</td>\n",
       "      <td>138.6</td>\n",
       "      <td>-34.91666667</td>\n",
       "    </tr>\n",
       "    <tr>\n",
       "      <th>2</th>\n",
       "      <td>7</td>\n",
       "      <td>Algiers</td>\n",
       "      <td>POINT(3 36.83333333)</td>\n",
       "      <td>2017.0</td>\n",
       "      <td>algiers</td>\n",
       "      <td>Algeria</td>\n",
       "      <td>NaN</td>\n",
       "      <td>3</td>\n",
       "      <td>36.83333333</td>\n",
       "    </tr>\n",
       "    <tr>\n",
       "      <th>3</th>\n",
       "      <td>9</td>\n",
       "      <td>Ankara</td>\n",
       "      <td>POINT(32.91666667 39.91666667)</td>\n",
       "      <td>2017.0</td>\n",
       "      <td>ankara</td>\n",
       "      <td>Turkey</td>\n",
       "      <td>NaN</td>\n",
       "      <td>32.91666667</td>\n",
       "      <td>39.91666667</td>\n",
       "    </tr>\n",
       "    <tr>\n",
       "      <th>4</th>\n",
       "      <td>16</td>\n",
       "      <td>Belém</td>\n",
       "      <td>POINT(-48.48333333 -1.466666667)</td>\n",
       "      <td>2017.0</td>\n",
       "      <td>belem</td>\n",
       "      <td>Brazil</td>\n",
       "      <td>NaN</td>\n",
       "      <td>-48.48333333</td>\n",
       "      <td>-1.466666667</td>\n",
       "    </tr>\n",
       "  </tbody>\n",
       "</table>\n",
       "</div>"
      ],
      "text/plain": [
       "   id      name                            coords  start_year  url_name  \\\n",
       "0   5  Aberdeen                POINT(-2.15 57.15)      2017.0  aberdeen   \n",
       "1   6  Adelaide         POINT(138.6 -34.91666667)      2017.0  adelaide   \n",
       "2   7   Algiers              POINT(3 36.83333333)      2017.0   algiers   \n",
       "3   9    Ankara    POINT(32.91666667 39.91666667)      2017.0    ankara   \n",
       "4  16     Belém  POINT(-48.48333333 -1.466666667)      2017.0     belem   \n",
       "\n",
       "     country country_state      Latitude     Longitude  \n",
       "0   Scotland           NaN         -2.15         57.15  \n",
       "1  Australia           NaN         138.6  -34.91666667  \n",
       "2    Algeria           NaN             3   36.83333333  \n",
       "3     Turkey           NaN   32.91666667   39.91666667  \n",
       "4     Brazil           NaN  -48.48333333  -1.466666667  "
      ]
     },
     "execution_count": 8,
     "metadata": {},
     "output_type": "execute_result"
    }
   ],
   "source": [
    "#Split coordinates column to understand Latitude and Longitude\n",
    "cities_df[['Latitude','Longitude']] = cities_df.coords.str.split(\" \",expand=True,)\n",
    "cities_df['Latitude'] = cities_df['Latitude'].map(lambda x: x.lstrip('POINT('))\n",
    "cities_df['Longitude'] = cities_df['Longitude'].map(lambda x: x.rstrip(')'))\n",
    "cities_df.head()"
   ]
  },
  {
   "cell_type": "code",
   "execution_count": 9,
   "metadata": {},
   "outputs": [
    {
     "data": {
      "text/html": [
       "<div>\n",
       "<style scoped>\n",
       "    .dataframe tbody tr th:only-of-type {\n",
       "        vertical-align: middle;\n",
       "    }\n",
       "\n",
       "    .dataframe tbody tr th {\n",
       "        vertical-align: top;\n",
       "    }\n",
       "\n",
       "    .dataframe thead th {\n",
       "        text-align: right;\n",
       "    }\n",
       "</style>\n",
       "<table border=\"1\" class=\"dataframe\">\n",
       "  <thead>\n",
       "    <tr style=\"text-align: right;\">\n",
       "      <th></th>\n",
       "      <th>id</th>\n",
       "      <th>closure</th>\n",
       "      <th>length</th>\n",
       "      <th>city_id</th>\n",
       "    </tr>\n",
       "  </thead>\n",
       "  <tbody>\n",
       "    <tr>\n",
       "      <th>0</th>\n",
       "      <td>1911</td>\n",
       "      <td>999999.0</td>\n",
       "      <td>6719</td>\n",
       "      <td>29</td>\n",
       "    </tr>\n",
       "    <tr>\n",
       "      <th>1</th>\n",
       "      <td>2563</td>\n",
       "      <td>999999.0</td>\n",
       "      <td>199</td>\n",
       "      <td>118</td>\n",
       "    </tr>\n",
       "    <tr>\n",
       "      <th>2</th>\n",
       "      <td>2557</td>\n",
       "      <td>999999.0</td>\n",
       "      <td>925</td>\n",
       "      <td>118</td>\n",
       "    </tr>\n",
       "    <tr>\n",
       "      <th>3</th>\n",
       "      <td>2558</td>\n",
       "      <td>999999.0</td>\n",
       "      <td>881</td>\n",
       "      <td>118</td>\n",
       "    </tr>\n",
       "    <tr>\n",
       "      <th>4</th>\n",
       "      <td>2564</td>\n",
       "      <td>999999.0</td>\n",
       "      <td>213</td>\n",
       "      <td>118</td>\n",
       "    </tr>\n",
       "  </tbody>\n",
       "</table>\n",
       "</div>"
      ],
      "text/plain": [
       "     id   closure  length  city_id\n",
       "0  1911  999999.0    6719       29\n",
       "1  2563  999999.0     199      118\n",
       "2  2557  999999.0     925      118\n",
       "3  2558  999999.0     881      118\n",
       "4  2564  999999.0     213      118"
      ]
     },
     "execution_count": 9,
     "metadata": {},
     "output_type": "execute_result"
    }
   ],
   "source": [
    "#Picking up the columns only with the existing data\n",
    "tracks_df = tracks_df[['id', 'closure', 'length', 'city_id']].copy()\n",
    "tracks_df.head()"
   ]
  },
  {
   "cell_type": "code",
   "execution_count": 10,
   "metadata": {},
   "outputs": [],
   "source": [
    "#Load cleansed data into tables in Postgres with REPLACE option\n",
    "stations_df.to_sql(name='newstations', con=engine, if_exists='replace', index=False)\n",
    "lines_df.to_sql(name='lines', con=engine, if_exists='replace', index=False)\n",
    "stationlines_df.to_sql(name='stationlines', con=engine, if_exists='replace', index=False)\n",
    "tracks_df.to_sql(name='newtracks', con=engine, if_exists='replace', index=False)\n",
    "tracklines_df.to_sql(name='tracklines', con=engine, if_exists='replace', index=False)\n",
    "cities_df.to_sql(name='newcities', con=engine, if_exists='replace', index=False)\n",
    "systems_df.to_sql(name='systems', con=engine, if_exists='replace', index=False)"
   ]
  },
  {
   "cell_type": "code",
   "execution_count": 15,
   "metadata": {},
   "outputs": [
    {
     "data": {
      "text/plain": [
       "[15792, 1343, 16242, 7744, 9757, 334, 287]"
      ]
     },
     "execution_count": 15,
     "metadata": {},
     "output_type": "execute_result"
    }
   ],
   "source": [
    "#Confirm that data has been added to the tables in Postgres\n",
    "pd.read_sql_query('select * from newstations', con=engine)['id'].count()\n",
    "\n",
    "dbcount_df = [pd.read_sql_query('select * from newstations', con=engine)['id'].count(), \\\n",
    "                pd.read_sql_query('select * from lines', con=engine)['id'].count(), \\\n",
    "                pd.read_sql_query('select * from stationlines', con=engine)['id'].count(), \\\n",
    "                pd.read_sql_query('select * from newtracks', con=engine)['id'].count(), \\\n",
    "                pd.read_sql_query('select * from tracklines', con=engine)['id'].count(), \\\n",
    "                pd.read_sql_query('select * from newcities', con=engine)['id'].count(), \\\n",
    "                pd.read_sql_query('select * from systems', con=engine)['id'].count()\n",
    "           ]\n",
    "dbcount_df"
   ]
  }
 ],
 "metadata": {
  "kernelspec": {
   "display_name": "Python 3",
   "language": "python",
   "name": "python3"
  },
  "language_info": {
   "codemirror_mode": {
    "name": "ipython",
    "version": 3
   },
   "file_extension": ".py",
   "mimetype": "text/x-python",
   "name": "python",
   "nbconvert_exporter": "python",
   "pygments_lexer": "ipython3",
   "version": "3.7.3"
  }
 },
 "nbformat": 4,
 "nbformat_minor": 2
}
